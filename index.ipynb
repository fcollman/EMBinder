{
 "cells": [
  {
   "cell_type": "code",
   "execution_count": 8,
   "metadata": {},
   "outputs": [],
   "source": [
    "from meshparty import trimesh_vtk, trimesh_io, skeleton_io, skeletonize, mesh_filters\n",
    "import pandas as pd\n",
    "import numpy as np\n",
    "from scipy import sparse\n",
    "import os\n",
    "from itkwidgets import view\n",
    "%matplotlib notebook"
   ]
  },
  {
   "cell_type": "code",
   "execution_count": 10,
   "metadata": {},
   "outputs": [],
   "source": [
    "cv_path = 'precomputed://gs://microns-seunglab/minnie65/seg_minnie65_0'\n",
    "mesh_folder = 'minnie_meshes/'\n",
    "skeleton_folder = 'minnie_skeletons/'\n",
    "neuron_id = 103530771121793958"
   ]
  },
  {
   "cell_type": "code",
   "execution_count": 11,
   "metadata": {},
   "outputs": [],
   "source": [
    "mm = trimesh_io.MeshMeta(cv_path=cv_path, disk_cache_path=mesh_folder)"
   ]
  },
  {
   "cell_type": "code",
   "execution_count": 12,
   "metadata": {},
   "outputs": [],
   "source": [
    "mesh = mm.mesh(seg_id = neuron_id )"
   ]
  },
  {
   "cell_type": "code",
   "execution_count": null,
   "metadata": {},
   "outputs": [],
   "source": [
    "# step 1\n",
    "# convert your actors to vtkpolydata objects\n",
    "poly_data = trimesh_vtk.trimesh_to_vtk(mesh.vertices, mesh.faces, None)\n",
    "\n",
    "# step 2\n",
    "# then create a viewer with this view function\n",
    "# pass in polydata objects, what colors you want\n",
    "# see docstring for more options\n",
    "viewer=view(geometries=[poly_data],\n",
    "            geometry_colors=['m'], \n",
    "            ui_collapsed=True)"
   ]
  },
  {
   "cell_type": "code",
   "execution_count": 64,
   "metadata": {},
   "outputs": [],
   "source": []
  },
  {
   "cell_type": "code",
   "execution_count": null,
   "metadata": {},
   "outputs": [],
   "source": []
  }
 ],
 "metadata": {
  "kernelspec": {
   "display_name": "basilcluster",
   "language": "python",
   "name": "basilcluster"
  },
  "language_info": {
   "codemirror_mode": {
    "name": "ipython",
    "version": 3
   },
   "file_extension": ".py",
   "mimetype": "text/x-python",
   "name": "python",
   "nbconvert_exporter": "python",
   "pygments_lexer": "ipython3",
   "version": "3.7.3"
  }
 },
 "nbformat": 4,
 "nbformat_minor": 2
}
